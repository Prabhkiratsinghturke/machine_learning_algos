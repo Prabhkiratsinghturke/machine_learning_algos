{
 "cells": [
  {
   "cell_type": "code",
   "execution_count": 24,
   "metadata": {},
   "outputs": [
    {
     "name": "stdout",
     "output_type": "stream",
     "text": [
      "   age  first_name  id\n",
      "0   20           1  11\n",
      "1   21           2  13\n",
      "2   21           3  14\n",
      "3   19           4  16\n",
      "4   22           5  17\n",
      "5   19           6  22\n",
      "6   20           7  24\n",
      "7   19           8  25\n"
     ]
    }
   ],
   "source": [
    "from sklearn.linear_model import LinearRegression\n",
    "\n",
    "lin_reg=LinearRegression()\n",
    "import pandas as pd\n",
    "dict={'first_name':[1,2,3,4,5,6,7,8],'id':[11,13,14,16,17,22,24,25],'age':[20,21,21,19,22,19,20,19]}\n",
    "df=pd.DataFrame(dict)\n",
    "print(df)\n",
    "x=df.iloc[:,1:3].values\n",
    "y=df.iloc[:,0].values"
   ]
  },
  {
   "cell_type": "code",
   "execution_count": 48,
   "metadata": {},
   "outputs": [
    {
     "name": "stdout",
     "output_type": "stream",
     "text": [
      "[[ 2 13]\n",
      " [ 4 16]\n",
      " [ 3 14]\n",
      " [ 8 25]\n",
      " [ 6 22]\n",
      " [ 1 11]]\n",
      "[21 19 21 19 19 20]\n",
      "[[ 5 17]\n",
      " [ 7 24]]\n",
      "[22 20]\n"
     ]
    }
   ],
   "source": [
    "from sklearn.cross_validation import train_test_split\n",
    "x_train, x_test, y_train, y_test = train_test_split(x, y, test_size = .25)\n",
    "print(x_train)\n",
    "print(y_train)\n",
    "print(x_test)\n",
    "print(y_test)"
   ]
  },
  {
   "cell_type": "code",
   "execution_count": 50,
   "metadata": {},
   "outputs": [
    {
     "data": {
      "text/plain": [
       "array([ 19.84732824,  18.90839695])"
      ]
     },
     "execution_count": 50,
     "metadata": {},
     "output_type": "execute_result"
    }
   ],
   "source": [
    "lin_reg.fit (x_train,y_train )\n",
    "lin_reg.predict(x_test)"
   ]
  }
 ],
 "metadata": {
  "kernelspec": {
   "display_name": "Python 3",
   "language": "python",
   "name": "python3"
  },
  "language_info": {
   "codemirror_mode": {
    "name": "ipython",
    "version": 3
   },
   "file_extension": ".py",
   "mimetype": "text/x-python",
   "name": "python",
   "nbconvert_exporter": "python",
   "pygments_lexer": "ipython3",
   "version": "3.6.3"
  }
 },
 "nbformat": 4,
 "nbformat_minor": 2
}
